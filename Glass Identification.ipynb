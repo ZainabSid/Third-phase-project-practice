{
 "cells": [
  {
   "cell_type": "code",
   "execution_count": 1,
   "id": "6ee38f51",
   "metadata": {},
   "outputs": [
    {
     "name": "stdout",
     "output_type": "stream",
     "text": [
      "Accuracy: 0.7209302325581395\n",
      "\n",
      "Classification Report:\n",
      "              precision    recall  f1-score   support\n",
      "\n",
      "           1       0.70      0.70      0.70        10\n",
      "           2       0.60      0.80      0.69        15\n",
      "           3       1.00      0.67      0.80         3\n",
      "           5       0.50      0.33      0.40         3\n",
      "           6       1.00      0.67      0.80         3\n",
      "           7       1.00      0.78      0.88         9\n",
      "\n",
      "    accuracy                           0.72        43\n",
      "   macro avg       0.80      0.66      0.71        43\n",
      "weighted avg       0.76      0.72      0.72        43\n",
      "\n"
     ]
    }
   ],
   "source": [
    "import pandas as pd\n",
    "from sklearn.model_selection import train_test_split\n",
    "from sklearn.ensemble import RandomForestClassifier\n",
    "from sklearn.metrics import classification_report, accuracy_score\n",
    "import requests\n",
    "from io import StringIO\n",
    "\n",
    "# Download the CSV file from the link\n",
    "url = \"https://raw.githubusercontent.com/FlipRoboTechnologies/ML-Datasets/main/Glass%20Identification/Glass%20Identification.csv\"\n",
    "response = requests.get(url)\n",
    "csv_data = response.content.decode('utf-8')\n",
    "\n",
    "# Convert CSV data to pandas DataFrame\n",
    "glass_df = pd.read_csv(StringIO(csv_data), names=[\"RI\", \"Na\", \"Mg\", \"Al\", \"Si\", \"K\", \"Ca\", \"Ba\", \"Fe\", \"Type\"], header=0)\n",
    "\n",
    "# Separate features and target variable\n",
    "X = glass_df.drop(columns=[\"Type\"])\n",
    "y = glass_df[\"Type\"]\n",
    "\n",
    "# Split data into train and test sets\n",
    "X_train, X_test, y_train, y_test = train_test_split(X, y, test_size=0.2, random_state=42)\n",
    "\n",
    "# Initialize and train the Random Forest Classifier\n",
    "model = RandomForestClassifier(random_state=42)\n",
    "model.fit(X_train, y_train)\n",
    "\n",
    "# Make predictions\n",
    "y_pred = model.predict(X_test)\n",
    "\n",
    "# Evaluate the model\n",
    "accuracy = accuracy_score(y_test, y_pred)\n",
    "print(\"Accuracy:\", accuracy)\n",
    "print(\"\\nClassification Report:\")\n",
    "print(classification_report(y_test, y_pred))"
   ]
  },
  {
   "cell_type": "code",
   "execution_count": null,
   "id": "f578d8ec",
   "metadata": {},
   "outputs": [],
   "source": []
  }
 ],
 "metadata": {
  "kernelspec": {
   "display_name": "Python 3 (ipykernel)",
   "language": "python",
   "name": "python3"
  },
  "language_info": {
   "codemirror_mode": {
    "name": "ipython",
    "version": 3
   },
   "file_extension": ".py",
   "mimetype": "text/x-python",
   "name": "python",
   "nbconvert_exporter": "python",
   "pygments_lexer": "ipython3",
   "version": "3.11.4"
  }
 },
 "nbformat": 4,
 "nbformat_minor": 5
}
