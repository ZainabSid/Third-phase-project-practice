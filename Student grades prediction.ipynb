{
 "cells": [
  {
   "cell_type": "code",
   "execution_count": 1,
   "id": "f7347fb9",
   "metadata": {},
   "outputs": [
    {
     "name": "stdout",
     "output_type": "stream",
     "text": [
      "     Seat No. PH-121 HS-101 CY-105 HS-105/12 MT-111 CS-105 CS-106 EL-102  \\\n",
      "0    CS-97001     B-     D+     C-         C     C-     D+      D     C-   \n",
      "1    CS-97002      A      D     D+         D     B-      C      D      A   \n",
      "2    CS-97003      A      B      A        B-     B+      A     B-     B+   \n",
      "3    CS-97004      D     C+     D+         D      D     A-     D+     C-   \n",
      "4    CS-97005     A-     A-     A-        B+      A      A     A-     B+   \n",
      "..        ...    ...    ...    ...       ...    ...    ...    ...    ...   \n",
      "566  CS-97567      B      A      A        A-     A+      A     A-     A-   \n",
      "567  CS-97568     A+      A      A         A      A      A      A     A-   \n",
      "568  CS-97569      B      A     A-        B+      A      A      A      A   \n",
      "569  CS-97570      A     B+      D         A      D     D+     B-     C-   \n",
      "570  CS-97571      C      D      D         C      C     D+      B     C+   \n",
      "\n",
      "    EE-119  ... CS-317 CS-403 CS-421 CS-406 CS-414 CS-419 CS-423 CS-412 CGPA  \\\n",
      "0       B-  ...     C-     C-     C-     A-      A     C-      B     A-    0   \n",
      "1       D+  ...      D      C      D     A-     B-      C      C      B    0   \n",
      "2       A-  ...      B      A      C      A      A      A     A-      A    0   \n",
      "3        D  ...      C     D+     C-     B-      B     C+     C+     C+    0   \n",
      "4        A  ...     B+     B+     B-     A-      A     A-     A-      A    0   \n",
      "..     ...  ...    ...    ...    ...    ...    ...    ...    ...    ...  ...   \n",
      "566     A+  ...     A-      A      A      A     B+     B+      B      A    0   \n",
      "567      A  ...     B+      A      A     A-      B     A-      C     A-    0   \n",
      "568      A  ...      B      A     B+      A      C     B+     A-     A-    0   \n",
      "569     B-  ...      B      B     C-      D      C      B     B-      C    0   \n",
      "570      C  ...      C     B-      D      F     C-     B+      D     C-    0   \n",
      "\n",
      "    Department  \n",
      "0            B  \n",
      "1            A  \n",
      "2            A  \n",
      "3            D  \n",
      "4            A  \n",
      "..         ...  \n",
      "566          B  \n",
      "567         A+  \n",
      "568          B  \n",
      "569          A  \n",
      "570          C  \n",
      "\n",
      "[571 rows x 44 columns]\n"
     ]
    }
   ],
   "source": [
    "import pandas as pd\n",
    "\n",
    "# Load the dataset\n",
    "url = \"https://github.com/FlipRoboTechnologies/ML-Datasets/raw/main/Grades/Grades.csv\"\n",
    "data = pd.read_csv(url)\n",
    "\n",
    "# Define a function to extract department code from course code\n",
    "def extract_department(course_code):\n",
    "    return course_code.split('-')[0]\n",
    "\n",
    "# Choose one of the course code columns to extract the department code\n",
    "department_column = 'PH-121'  # Choose one of the course code columns\n",
    "data['Department'] = data[department_column].apply(extract_department)\n",
    "\n",
    "# Define a function to calculate CGPA\n",
    "def calculate_cgpa(row):\n",
    "    total_credits = 0\n",
    "    total_grade_points = 0\n",
    "    department = row['Department']\n",
    "    for i in range(1, 5):  # Assuming grades are available for 4 years\n",
    "        grade_col = f\"{department}-{i}\"  # Construct grade column name\n",
    "        credits_col = f\"{department}-{i}YY\"  # Construct credits column name\n",
    "        try:\n",
    "            grade = row[grade_col]\n",
    "            credits = row[credits_col]\n",
    "            if not pd.isnull(grade) and not pd.isnull(credits):\n",
    "                total_credits += credits\n",
    "                total_grade_points += (grade * credits)\n",
    "        except KeyError:\n",
    "            pass  # Skip if column name does not exist\n",
    "    if total_credits == 0:\n",
    "        return 0  # Return 0 if no credits earned\n",
    "    else:\n",
    "        return total_grade_points / total_credits\n",
    "\n",
    "# Apply the function to each row to calculate CGPA\n",
    "data['CGPA'] = data.apply(calculate_cgpa, axis=1)\n",
    "\n",
    "# Display the dataframe with CGPA column added\n",
    "print(data)"
   ]
  },
  {
   "cell_type": "code",
   "execution_count": null,
   "id": "da146aab",
   "metadata": {},
   "outputs": [],
   "source": []
  }
 ],
 "metadata": {
  "kernelspec": {
   "display_name": "Python 3 (ipykernel)",
   "language": "python",
   "name": "python3"
  },
  "language_info": {
   "codemirror_mode": {
    "name": "ipython",
    "version": 3
   },
   "file_extension": ".py",
   "mimetype": "text/x-python",
   "name": "python",
   "nbconvert_exporter": "python",
   "pygments_lexer": "ipython3",
   "version": "3.11.4"
  }
 },
 "nbformat": 4,
 "nbformat_minor": 5
}
